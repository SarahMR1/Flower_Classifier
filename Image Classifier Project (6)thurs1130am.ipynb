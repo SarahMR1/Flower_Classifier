{
 "cells": [
  {
   "cell_type": "markdown",
   "metadata": {},
   "source": [
    "# Developing an AI application\n",
    "\n",
    "Going forward, AI algorithms will be incorporated into more and more everyday applications. For example, you might want to include an image classifier in a smart phone app. To do this, you'd use a deep learning model trained on hundreds of thousands of images as part of the overall application architecture. A large part of software development in the future will be using these types of models as common parts of applications. \n",
    "\n",
    "In this project, you'll train an image classifier to recognize different species of flowers. You can imagine using something like this in a phone app that tells you the name of the flower your camera is looking at. In practice you'd train this classifier, then export it for use in your application. We'll be using [this dataset](http://www.robots.ox.ac.uk/~vgg/data/flowers/102/index.html) of 102 flower categories, you can see a few examples below. \n",
    "\n",
    "<img src='assets/Flowers.png' width=500px>\n",
    "\n",
    "The project is broken down into multiple steps:\n",
    "\n",
    "* Load and preprocess the image dataset\n",
    "* Train the image classifier on your dataset\n",
    "* Use the trained classifier to predict image content\n",
    "\n",
    "We'll lead you through each part which you'll implement in Python.\n",
    "\n",
    "When you've completed this project, you'll have an application that can be trained on any set of labeled images. Here your network will be learning about flowers and end up as a command line application. But, what you do with your new skills depends on your imagination and effort in building a dataset. For example, imagine an app where you take a picture of a car, it tells you what the make and model is, then looks up information about it. Go build your own dataset and make something new.\n",
    "\n",
    "First up is importing the packages you'll need. It's good practice to keep all the imports at the beginning of your code. As you work through this notebook and find you need to import a package, make sure to add the import up here."
   ]
  },
  {
   "cell_type": "code",
   "execution_count": 1,
   "metadata": {},
   "outputs": [],
   "source": [
    "# Imports here\n",
    "\n",
    "import torch\n",
    "from torch import nn\n",
    "from torch import optim\n",
    "import torch.nn.functional as F\n",
    "from torchvision import datasets, transforms, models\n",
    "from PIL import Image\n",
    "import os, random\n",
    "import matplotlib.pyplot as plt\n",
    "import numpy as np\n",
    "from math import floor\n",
    "from torch.autograd import Variable\n",
    "\n"
   ]
  },
  {
   "cell_type": "markdown",
   "metadata": {},
   "source": [
    "## Load the data\n",
    "\n",
    "Here you'll use `torchvision` to load the data ([documentation](http://pytorch.org/docs/0.3.0/torchvision/index.html)). The data should be included alongside this notebook, otherwise you can [download it here](https://s3.amazonaws.com/content.udacity-data.com/nd089/flower_data.tar.gz). The dataset is split into three parts, training, validation, and testing. For the training, you'll want to apply transformations such as random scaling, cropping, and flipping. This will help the network generalize leading to better performance. You'll also need to make sure the input data is resized to 224x224 pixels as required by the pre-trained networks.\n",
    "\n",
    "The validation and testing sets are used to measure the model's performance on data it hasn't seen yet. For this you don't want any scaling or rotation transformations, but you'll need to resize then crop the images to the appropriate size.\n",
    "\n",
    "The pre-trained networks you'll use were trained on the ImageNet dataset where each color channel was normalized separately. For all three sets you'll need to normalize the means and standard deviations of the images to what the network expects. For the means, it's `[0.485, 0.456, 0.406]` and for the standard deviations `[0.229, 0.224, 0.225]`, calculated from the ImageNet images.  These values will shift each color channel to be centered at 0 and range from -1 to 1.\n",
    " "
   ]
  },
  {
   "cell_type": "code",
   "execution_count": 2,
   "metadata": {},
   "outputs": [],
   "source": [
    "data_dir = 'flowers'\n",
    "train_dir = data_dir + '/train'\n",
    "valid_dir = data_dir + '/valid'\n",
    "test_dir = data_dir + '/test'"
   ]
  },
  {
   "cell_type": "code",
   "execution_count": 3,
   "metadata": {},
   "outputs": [],
   "source": [
    "# TODO: Define your transforms for the training, validation, and testing sets\n",
    "train_transforms = transforms.Compose([transforms.RandomRotation(30),\n",
    "                                       transforms.RandomResizedCrop(224),\n",
    "                                       transforms.RandomHorizontalFlip(),\n",
    "                                       transforms.ToTensor(),\n",
    "                                       transforms.Normalize([0.485, 0.456, 0.406],\n",
    "                                                            [0.229, 0.224, 0.225])])\n",
    "\n",
    "test_transforms = transforms.Compose([transforms.Resize(255),\n",
    "                                      transforms.CenterCrop(224),\n",
    "                                      transforms.ToTensor(),\n",
    "                                      transforms.Normalize([0.485, 0.456, 0.406],\n",
    "                                                           [0.229, 0.224, 0.225])])\n",
    "# TODO: Load the datasets with ImageFolder\n",
    "train_data = datasets.ImageFolder(data_dir + '/train', transform=train_transforms)\n",
    "test_data = datasets.ImageFolder(data_dir + '/test', transform=test_transforms)\n",
    "valid_data = datasets.ImageFolder(data_dir + '/valid', transform=test_transforms)\n",
    "\n",
    "# TODO: Using the image datasets and the trainforms, define the dataloaders\n",
    "trainloader = torch.utils.data.DataLoader(train_data, batch_size=64, shuffle=True)\n",
    "validloader = torch.utils.data.DataLoader(test_data, batch_size=64)\n",
    "testloader = torch.utils.data.DataLoader(test_data, batch_size=64)"
   ]
  },
  {
   "cell_type": "markdown",
   "metadata": {},
   "source": [
    "### Label mapping\n",
    "\n",
    "You'll also need to load in a mapping from category label to category name. You can find this in the file `cat_to_name.json`. It's a JSON object which you can read in with the [`json` module](https://docs.python.org/2/library/json.html). This will give you a dictionary mapping the integer encoded categories to the actual names of the flowers."
   ]
  },
  {
   "cell_type": "code",
   "execution_count": 4,
   "metadata": {},
   "outputs": [],
   "source": [
    "import json\n",
    "\n",
    "with open('cat_to_name.json', 'r') as f:\n",
    "    cat_to_name = json.load(f)"
   ]
  },
  {
   "cell_type": "markdown",
   "metadata": {},
   "source": [
    "# Building and training the classifier\n",
    "\n",
    "Now that the data is ready, it's time to build and train the classifier. As usual, you should use one of the pretrained models from `torchvision.models` to get the image features. Build and train a new feed-forward classifier using those features.\n",
    "\n",
    "We're going to leave this part up to you. Refer to [the rubric](https://review.udacity.com/#!/rubrics/1663/view) for guidance on successfully completing this section. Things you'll need to do:\n",
    "\n",
    "* Load a [pre-trained network](http://pytorch.org/docs/master/torchvision/models.html) (If you need a starting point, the VGG networks work great and are straightforward to use)\n",
    "* Define a new, untrained feed-forward network as a classifier, using ReLU activations and dropout\n",
    "* Train the classifier layers using backpropagation using the pre-trained network to get the features\n",
    "* Track the loss and accuracy on the validation set to determine the best hyperparameters\n",
    "\n",
    "We've left a cell open for you below, but use as many as you need. Our advice is to break the problem up into smaller parts you can run separately. Check that each part is doing what you expect, then move on to the next. You'll likely find that as you work through each part, you'll need to go back and modify your previous code. This is totally normal!\n",
    "\n",
    "When training make sure you're updating only the weights of the feed-forward network. You should be able to get the validation accuracy above 70% if you build everything right. Make sure to try different hyperparameters (learning rate, units in the classifier, epochs, etc) to find the best model. Save those hyperparameters to use as default values in the next part of the project.\n",
    "\n",
    "One last important tip if you're using the workspace to run your code: To avoid having your workspace disconnect during the long-running tasks in this notebook, please read in the earlier page in this lesson called Intro to\n",
    "GPU Workspaces about Keeping Your Session Active. You'll want to include code from the workspace_utils.py module.\n",
    "\n",
    "<font color='red'>**Note for Workspace users:** If your network is over 1 GB when saved as a checkpoint, there might be issues with saving backups in your workspace. Typically this happens with wide dense layers after the convolutional layers. If your saved checkpoint is larger than 1 GB (you can open a terminal and check with `ls -lh`), you should reduce the size of your hidden layers and train again.</font>"
   ]
  },
  {
   "cell_type": "code",
   "execution_count": 14,
   "metadata": {},
   "outputs": [
    {
     "data": {
      "text/plain": [
       "ResNet(\n",
       "  (conv1): Conv2d(3, 64, kernel_size=(7, 7), stride=(2, 2), padding=(3, 3), bias=False)\n",
       "  (bn1): BatchNorm2d(64, eps=1e-05, momentum=0.1, affine=True, track_running_stats=True)\n",
       "  (relu): ReLU(inplace)\n",
       "  (maxpool): MaxPool2d(kernel_size=3, stride=2, padding=1, dilation=1, ceil_mode=False)\n",
       "  (layer1): Sequential(\n",
       "    (0): BasicBlock(\n",
       "      (conv1): Conv2d(64, 64, kernel_size=(3, 3), stride=(1, 1), padding=(1, 1), bias=False)\n",
       "      (bn1): BatchNorm2d(64, eps=1e-05, momentum=0.1, affine=True, track_running_stats=True)\n",
       "      (relu): ReLU(inplace)\n",
       "      (conv2): Conv2d(64, 64, kernel_size=(3, 3), stride=(1, 1), padding=(1, 1), bias=False)\n",
       "      (bn2): BatchNorm2d(64, eps=1e-05, momentum=0.1, affine=True, track_running_stats=True)\n",
       "    )\n",
       "    (1): BasicBlock(\n",
       "      (conv1): Conv2d(64, 64, kernel_size=(3, 3), stride=(1, 1), padding=(1, 1), bias=False)\n",
       "      (bn1): BatchNorm2d(64, eps=1e-05, momentum=0.1, affine=True, track_running_stats=True)\n",
       "      (relu): ReLU(inplace)\n",
       "      (conv2): Conv2d(64, 64, kernel_size=(3, 3), stride=(1, 1), padding=(1, 1), bias=False)\n",
       "      (bn2): BatchNorm2d(64, eps=1e-05, momentum=0.1, affine=True, track_running_stats=True)\n",
       "    )\n",
       "  )\n",
       "  (layer2): Sequential(\n",
       "    (0): BasicBlock(\n",
       "      (conv1): Conv2d(64, 128, kernel_size=(3, 3), stride=(2, 2), padding=(1, 1), bias=False)\n",
       "      (bn1): BatchNorm2d(128, eps=1e-05, momentum=0.1, affine=True, track_running_stats=True)\n",
       "      (relu): ReLU(inplace)\n",
       "      (conv2): Conv2d(128, 128, kernel_size=(3, 3), stride=(1, 1), padding=(1, 1), bias=False)\n",
       "      (bn2): BatchNorm2d(128, eps=1e-05, momentum=0.1, affine=True, track_running_stats=True)\n",
       "      (downsample): Sequential(\n",
       "        (0): Conv2d(64, 128, kernel_size=(1, 1), stride=(2, 2), bias=False)\n",
       "        (1): BatchNorm2d(128, eps=1e-05, momentum=0.1, affine=True, track_running_stats=True)\n",
       "      )\n",
       "    )\n",
       "    (1): BasicBlock(\n",
       "      (conv1): Conv2d(128, 128, kernel_size=(3, 3), stride=(1, 1), padding=(1, 1), bias=False)\n",
       "      (bn1): BatchNorm2d(128, eps=1e-05, momentum=0.1, affine=True, track_running_stats=True)\n",
       "      (relu): ReLU(inplace)\n",
       "      (conv2): Conv2d(128, 128, kernel_size=(3, 3), stride=(1, 1), padding=(1, 1), bias=False)\n",
       "      (bn2): BatchNorm2d(128, eps=1e-05, momentum=0.1, affine=True, track_running_stats=True)\n",
       "    )\n",
       "  )\n",
       "  (layer3): Sequential(\n",
       "    (0): BasicBlock(\n",
       "      (conv1): Conv2d(128, 256, kernel_size=(3, 3), stride=(2, 2), padding=(1, 1), bias=False)\n",
       "      (bn1): BatchNorm2d(256, eps=1e-05, momentum=0.1, affine=True, track_running_stats=True)\n",
       "      (relu): ReLU(inplace)\n",
       "      (conv2): Conv2d(256, 256, kernel_size=(3, 3), stride=(1, 1), padding=(1, 1), bias=False)\n",
       "      (bn2): BatchNorm2d(256, eps=1e-05, momentum=0.1, affine=True, track_running_stats=True)\n",
       "      (downsample): Sequential(\n",
       "        (0): Conv2d(128, 256, kernel_size=(1, 1), stride=(2, 2), bias=False)\n",
       "        (1): BatchNorm2d(256, eps=1e-05, momentum=0.1, affine=True, track_running_stats=True)\n",
       "      )\n",
       "    )\n",
       "    (1): BasicBlock(\n",
       "      (conv1): Conv2d(256, 256, kernel_size=(3, 3), stride=(1, 1), padding=(1, 1), bias=False)\n",
       "      (bn1): BatchNorm2d(256, eps=1e-05, momentum=0.1, affine=True, track_running_stats=True)\n",
       "      (relu): ReLU(inplace)\n",
       "      (conv2): Conv2d(256, 256, kernel_size=(3, 3), stride=(1, 1), padding=(1, 1), bias=False)\n",
       "      (bn2): BatchNorm2d(256, eps=1e-05, momentum=0.1, affine=True, track_running_stats=True)\n",
       "    )\n",
       "  )\n",
       "  (layer4): Sequential(\n",
       "    (0): BasicBlock(\n",
       "      (conv1): Conv2d(256, 512, kernel_size=(3, 3), stride=(2, 2), padding=(1, 1), bias=False)\n",
       "      (bn1): BatchNorm2d(512, eps=1e-05, momentum=0.1, affine=True, track_running_stats=True)\n",
       "      (relu): ReLU(inplace)\n",
       "      (conv2): Conv2d(512, 512, kernel_size=(3, 3), stride=(1, 1), padding=(1, 1), bias=False)\n",
       "      (bn2): BatchNorm2d(512, eps=1e-05, momentum=0.1, affine=True, track_running_stats=True)\n",
       "      (downsample): Sequential(\n",
       "        (0): Conv2d(256, 512, kernel_size=(1, 1), stride=(2, 2), bias=False)\n",
       "        (1): BatchNorm2d(512, eps=1e-05, momentum=0.1, affine=True, track_running_stats=True)\n",
       "      )\n",
       "    )\n",
       "    (1): BasicBlock(\n",
       "      (conv1): Conv2d(512, 512, kernel_size=(3, 3), stride=(1, 1), padding=(1, 1), bias=False)\n",
       "      (bn1): BatchNorm2d(512, eps=1e-05, momentum=0.1, affine=True, track_running_stats=True)\n",
       "      (relu): ReLU(inplace)\n",
       "      (conv2): Conv2d(512, 512, kernel_size=(3, 3), stride=(1, 1), padding=(1, 1), bias=False)\n",
       "      (bn2): BatchNorm2d(512, eps=1e-05, momentum=0.1, affine=True, track_running_stats=True)\n",
       "    )\n",
       "  )\n",
       "  (avgpool): AvgPool2d(kernel_size=7, stride=1, padding=0)\n",
       "  (fc): Sequential(\n",
       "    (0): Linear(in_features=512, out_features=256, bias=True)\n",
       "    (1): ReLU()\n",
       "    (2): Dropout(p=0.2)\n",
       "    (3): Linear(in_features=256, out_features=102, bias=True)\n",
       "    (4): LogSoftmax()\n",
       "  )\n",
       ")"
      ]
     },
     "execution_count": 14,
     "metadata": {},
     "output_type": "execute_result"
    }
   ],
   "source": [
    "# TODO: Build and train your network\n",
    "# Use GPU if it's available\n",
    "device = torch.device(\"cuda\" if torch.cuda.is_available() else \"cpu\")\n",
    "\n",
    "#call on pretrained model\n",
    "model = models.resnet18(pretrained=True)\n",
    "\n",
    "\n",
    "# Freeze parameters so we don't backprop through them\n",
    "for param in model.parameters():\n",
    "    param.requires_grad = False\n",
    "\n",
    "#create model architecture\n",
    "classifier = nn.Sequential(nn.Linear(512, 256),\n",
    "                                 nn.ReLU(),\n",
    "                                 nn.Dropout(0.2),\n",
    "                                 nn.Linear(256, 102),\n",
    "                                 nn.LogSoftmax(dim=1))\n",
    "\n",
    "model.fc = classifier\n",
    "\n",
    "criterion = nn.NLLLoss()\n",
    "\n",
    "# Only train the classifier parameters, feature parameters are frozen\n",
    "optimizer = optim.Adam(model.fc.parameters(), lr=0.003)\n",
    "\n",
    "#send model to GPU if available\n",
    "model.to(device)"
   ]
  },
  {
   "cell_type": "code",
   "execution_count": 15,
   "metadata": {},
   "outputs": [
    {
     "name": "stdout",
     "output_type": "stream",
     "text": [
      "Epoch 1/3...Train loss: 4.658.. Validation loss: 4.490.. Validation accuracy: 0.061\n",
      "Epoch 1/3...Train loss: 4.384.. Validation loss: 4.212.. Validation accuracy: 0.122\n",
      "Epoch 1/3...Train loss: 4.222.. Validation loss: 4.064.. Validation accuracy: 0.142\n",
      "Epoch 1/3...Train loss: 4.098.. Validation loss: 3.857.. Validation accuracy: 0.233\n",
      "Epoch 1/3...Train loss: 3.955.. Validation loss: 3.666.. Validation accuracy: 0.241\n",
      "Epoch 1/3...Train loss: 3.723.. Validation loss: 3.406.. Validation accuracy: 0.239\n",
      "Epoch 1/3...Train loss: 3.491.. Validation loss: 3.189.. Validation accuracy: 0.286\n",
      "Epoch 1/3...Train loss: 3.382.. Validation loss: 2.904.. Validation accuracy: 0.347\n",
      "Epoch 1/3...Train loss: 3.100.. Validation loss: 2.689.. Validation accuracy: 0.401\n",
      "Epoch 1/3...Train loss: 2.978.. Validation loss: 2.477.. Validation accuracy: 0.443\n",
      "Epoch 1/3...Train loss: 2.737.. Validation loss: 2.289.. Validation accuracy: 0.430\n",
      "Epoch 1/3...Train loss: 2.616.. Validation loss: 2.123.. Validation accuracy: 0.520\n",
      "Epoch 1/3...Train loss: 2.456.. Validation loss: 2.026.. Validation accuracy: 0.540\n",
      "Epoch 1/3...Train loss: 2.454.. Validation loss: 1.868.. Validation accuracy: 0.535\n",
      "Epoch 1/3...Train loss: 2.060.. Validation loss: 1.755.. Validation accuracy: 0.579\n",
      "Epoch 1/3...Train loss: 2.248.. Validation loss: 1.604.. Validation accuracy: 0.626\n",
      "Epoch 1/3...Train loss: 2.025.. Validation loss: 1.543.. Validation accuracy: 0.653\n",
      "Epoch 1/3...Train loss: 2.212.. Validation loss: 1.483.. Validation accuracy: 0.659\n",
      "Epoch 1/3...Train loss: 2.019.. Validation loss: 1.452.. Validation accuracy: 0.617\n",
      "Epoch 1/3...Train loss: 1.904.. Validation loss: 1.377.. Validation accuracy: 0.661\n",
      "Epoch 2/3...Train loss: 1.878.. Validation loss: 1.423.. Validation accuracy: 0.639\n",
      "Epoch 2/3...Train loss: 1.760.. Validation loss: 1.300.. Validation accuracy: 0.657\n",
      "Epoch 2/3...Train loss: 1.725.. Validation loss: 1.249.. Validation accuracy: 0.696\n",
      "Epoch 2/3...Train loss: 1.696.. Validation loss: 1.179.. Validation accuracy: 0.700\n",
      "Epoch 2/3...Train loss: 1.456.. Validation loss: 1.108.. Validation accuracy: 0.707\n",
      "Epoch 2/3...Train loss: 1.525.. Validation loss: 1.171.. Validation accuracy: 0.671\n",
      "Epoch 2/3...Train loss: 1.389.. Validation loss: 1.019.. Validation accuracy: 0.754\n",
      "Epoch 2/3...Train loss: 1.524.. Validation loss: 0.978.. Validation accuracy: 0.759\n",
      "Epoch 2/3...Train loss: 1.558.. Validation loss: 0.939.. Validation accuracy: 0.781\n",
      "Epoch 2/3...Train loss: 1.638.. Validation loss: 0.985.. Validation accuracy: 0.741\n",
      "Epoch 2/3...Train loss: 1.352.. Validation loss: 0.970.. Validation accuracy: 0.757\n",
      "Epoch 2/3...Train loss: 1.390.. Validation loss: 0.994.. Validation accuracy: 0.746\n",
      "Epoch 2/3...Train loss: 1.452.. Validation loss: 0.955.. Validation accuracy: 0.762\n",
      "Epoch 2/3...Train loss: 1.454.. Validation loss: 0.899.. Validation accuracy: 0.753\n",
      "Epoch 2/3...Train loss: 1.267.. Validation loss: 0.842.. Validation accuracy: 0.784\n",
      "Epoch 2/3...Train loss: 1.348.. Validation loss: 0.815.. Validation accuracy: 0.788\n",
      "Epoch 2/3...Train loss: 1.360.. Validation loss: 0.816.. Validation accuracy: 0.790\n",
      "Epoch 2/3...Train loss: 1.315.. Validation loss: 0.832.. Validation accuracy: 0.778\n",
      "Epoch 2/3...Train loss: 1.273.. Validation loss: 0.806.. Validation accuracy: 0.787\n",
      "Epoch 2/3...Train loss: 1.363.. Validation loss: 0.865.. Validation accuracy: 0.759\n",
      "Epoch 2/3...Train loss: 1.366.. Validation loss: 0.797.. Validation accuracy: 0.806\n",
      "Epoch 3/3...Train loss: 1.167.. Validation loss: 0.740.. Validation accuracy: 0.817\n",
      "Epoch 3/3...Train loss: 0.989.. Validation loss: 0.781.. Validation accuracy: 0.802\n",
      "Epoch 3/3...Train loss: 1.119.. Validation loss: 0.749.. Validation accuracy: 0.797\n",
      "Epoch 3/3...Train loss: 1.112.. Validation loss: 0.738.. Validation accuracy: 0.794\n",
      "Epoch 3/3...Train loss: 1.222.. Validation loss: 0.709.. Validation accuracy: 0.809\n",
      "Epoch 3/3...Train loss: 1.244.. Validation loss: 0.694.. Validation accuracy: 0.821\n",
      "Epoch 3/3...Train loss: 1.186.. Validation loss: 0.772.. Validation accuracy: 0.792\n",
      "Epoch 3/3...Train loss: 1.161.. Validation loss: 0.703.. Validation accuracy: 0.815\n",
      "Epoch 3/3...Train loss: 1.136.. Validation loss: 0.699.. Validation accuracy: 0.813\n",
      "Epoch 3/3...Train loss: 1.164.. Validation loss: 0.708.. Validation accuracy: 0.811\n",
      "Epoch 3/3...Train loss: 1.325.. Validation loss: 0.703.. Validation accuracy: 0.812\n",
      "Epoch 3/3...Train loss: 1.217.. Validation loss: 0.749.. Validation accuracy: 0.810\n",
      "Epoch 3/3...Train loss: 1.194.. Validation loss: 0.740.. Validation accuracy: 0.813\n",
      "Epoch 3/3...Train loss: 1.187.. Validation loss: 0.683.. Validation accuracy: 0.827\n",
      "Epoch 3/3...Train loss: 1.204.. Validation loss: 0.659.. Validation accuracy: 0.815\n",
      "Epoch 3/3...Train loss: 0.988.. Validation loss: 0.682.. Validation accuracy: 0.808\n",
      "Epoch 3/3...Train loss: 0.942.. Validation loss: 0.662.. Validation accuracy: 0.823\n",
      "Epoch 3/3...Train loss: 0.961.. Validation loss: 0.604.. Validation accuracy: 0.832\n",
      "Epoch 3/3...Train loss: 0.974.. Validation loss: 0.580.. Validation accuracy: 0.851\n",
      "Epoch 3/3...Train loss: 1.120.. Validation loss: 0.649.. Validation accuracy: 0.829\n"
     ]
    }
   ],
   "source": [
    "epochs=3\n",
    "steps=0\n",
    "running_loss = 0\n",
    "print_every = 5\n",
    "\n",
    "for epoch in range(epochs):\n",
    "    for images, labels in trainloader:\n",
    "        steps += 1\n",
    "        \n",
    "        images, labels = images.to(device), labels.to(device)\n",
    "        \n",
    "        optimizer.zero_grad()\n",
    "        \n",
    "        logps = model(images)\n",
    "        loss = criterion(logps, labels)\n",
    "        loss.backward()\n",
    "        optimizer.step()\n",
    "        \n",
    "        running_loss += loss.item()\n",
    "        # TODO: Do validation on the test set\n",
    "        if steps % print_every == 0:\n",
    "            model.eval()\n",
    "            test_loss = 0\n",
    "            accuracy = 0\n",
    "            \n",
    "            for images, labels in validloader:\n",
    "                \n",
    "                images, labels = images.to(device), labels.to(device)\n",
    "                \n",
    "                logps=model(images)\n",
    "                loss = criterion(logps, labels)\n",
    "                test_loss += loss.item()\n",
    "                \n",
    "                ps = torch.exp(logps)\n",
    "                top_ps, top_class = ps.topk(1, dim=1)\n",
    "                equality = top_class == labels.view(*top_class.shape)\n",
    "                accuracy += torch.mean(equality.type(torch.FloatTensor)).item()\n",
    "                \n",
    "            print(f\"Epoch {epoch+1}/{epochs}...\"\n",
    "              f\"Train loss: {running_loss/print_every:.3f}.. \"\n",
    "              f\"Validation loss: {test_loss/len(validloader):.3f}.. \"\n",
    "              f\"Validation accuracy: {accuracy/len(validloader):.3f}\")\n",
    "            \n",
    "            running_loss=0\n",
    "            model.train()\n",
    "            "
   ]
  },
  {
   "cell_type": "markdown",
   "metadata": {},
   "source": [
    "## Testing your network\n",
    "\n",
    "It's good practice to test your trained network on test data, images the network has never seen either in training or validation. This will give you a good estimate for the model's performance on completely new images. Run the test images through the network and measure the accuracy, the same way you did validation. You should be able to reach around 70% accuracy on the test set if the model has been trained well."
   ]
  },
  {
   "cell_type": "code",
   "execution_count": 16,
   "metadata": {},
   "outputs": [
    {
     "name": "stdout",
     "output_type": "stream",
     "text": [
      "Test accuracy is: 81.00254535675049%\n"
     ]
    }
   ],
   "source": [
    "running_loss = 0\n",
    "\n",
    "model.eval()\n",
    "test_loss = 0\n",
    "accuracy = 0\n",
    "\n",
    "for images, labels in testloader:\n",
    "\n",
    "    images, labels = images.to(device), labels.to(device)\n",
    "\n",
    "    logps=model(images)\n",
    "    loss = criterion(logps, labels)\n",
    "    test_loss += loss.item()\n",
    "\n",
    "    ps = torch.exp(logps)\n",
    "    top_ps, top_class = ps.topk(1, dim=1)\n",
    "    equality = top_class == labels.view(*top_class.shape)\n",
    "    accuracy += torch.mean(equality.type(torch.FloatTensor)).item()\n",
    "\n",
    "print(\n",
    "  f\"Test accuracy is: {100 * (accuracy/len(testloader))}%\")\n",
    "\n",
    "running_loss=0\n",
    "\n"
   ]
  },
  {
   "cell_type": "markdown",
   "metadata": {},
   "source": [
    "## Save the checkpoint\n",
    "\n",
    "Now that your network is trained, save the model so you can load it later for making predictions. You probably want to save other things such as the mapping of classes to indices which you get from one of the image datasets: `image_datasets['train'].class_to_idx`. You can attach this to the model as an attribute which makes inference easier later on.\n",
    "\n",
    "```model.class_to_idx = image_datasets['train'].class_to_idx```\n",
    "\n",
    "Remember that you'll want to completely rebuild the model later so you can use it for inference. Make sure to include any information you need in the checkpoint. If you want to load the model and keep training, you'll want to save the number of epochs as well as the optimizer state, `optimizer.state_dict`. You'll likely want to use this trained model in the next part of the project, so best to save it now."
   ]
  },
  {
   "cell_type": "code",
   "execution_count": 17,
   "metadata": {},
   "outputs": [],
   "source": [
    "# TODO: Save the checkpoint \n",
    "\n",
    "\n",
    "checkpoint={'arch':'resnet18',\n",
    "           'classifier':'classifier',\n",
    "           'input_size': 512,\n",
    "           'output_size': 102,\n",
    "           'hidden_layers': 256,\n",
    "           'dropout': 0.2,\n",
    "           'state_dict': model.state_dict(),\n",
    "           'epochs': epochs,\n",
    "           'learning_rate': 0.003,\n",
    "           'idx_to_class': {v: k for k, v in train_data.class_to_idx.items()}\n",
    "            \n",
    "           }\n",
    "\n",
    "torch.save(checkpoint, 'checkpoint.pth')\n"
   ]
  },
  {
   "cell_type": "markdown",
   "metadata": {},
   "source": [
    "## Loading the checkpoint\n",
    "\n",
    "At this point it's good to write a function that can load a checkpoint and rebuild the model. That way you can come back to this project and keep working on it without having to retrain the network."
   ]
  },
  {
   "cell_type": "code",
   "execution_count": 5,
   "metadata": {},
   "outputs": [
    {
     "name": "stderr",
     "output_type": "stream",
     "text": [
      "Downloading: \"https://download.pytorch.org/models/resnet18-5c106cde.pth\" to /root/.torch/models/resnet18-5c106cde.pth\n",
      "100%|██████████| 46827520/46827520 [00:00<00:00, 60019305.07it/s]\n"
     ]
    }
   ],
   "source": [
    "# TODO: Write a function that loads a checkpoint and rebuilds the model\n",
    "\n",
    "\n",
    "def load_checkpoint(filepath):\n",
    "    checkpoint = torch.load(filepath)\n",
    "    model = models.resnet18(pretrained=True)\n",
    "    classifier = nn.Sequential( nn.Linear(512, 256),\n",
    "                               nn.ReLU(),\n",
    "                               nn.Dropout(p=0.2),\n",
    "                               nn.Linear(256, 102),\n",
    "                               nn.ReLU(),\n",
    "                               nn.LogSoftmax(dim=1))\n",
    "                          \n",
    "    model.fc=classifier                                \n",
    "    \n",
    "    model.load_state_dict(checkpoint['state_dict'])\n",
    "    model.idx_to_class = checkpoint['idx_to_class']\n",
    "    \n",
    "    return model\n",
    "model=load_checkpoint('checkpoint.pth')"
   ]
  },
  {
   "cell_type": "markdown",
   "metadata": {},
   "source": [
    "# Inference for classification\n",
    "\n",
    "Now you'll write a function to use a trained network for inference. That is, you'll pass an image into the network and predict the class of the flower in the image. Write a function called `predict` that takes an image and a model, then returns the top $K$ most likely classes along with the probabilities. It should look like \n",
    "\n",
    "```python\n",
    "probs, classes = predict(image_path, model)\n",
    "print(probs)\n",
    "print(classes)\n",
    "> [ 0.01558163  0.01541934  0.01452626  0.01443549  0.01407339]\n",
    "> ['70', '3', '45', '62', '55']\n",
    "```\n",
    "\n",
    "First you'll need to handle processing the input image such that it can be used in your network. \n",
    "\n",
    "## Image Preprocessing\n",
    "\n",
    "You'll want to use `PIL` to load the image ([documentation](https://pillow.readthedocs.io/en/latest/reference/Image.html)). It's best to write a function that preprocesses the image so it can be used as input for the model. This function should process the images in the same manner used for training. \n",
    "\n",
    "First, resize the images where the shortest side is 256 pixels, keeping the aspect ratio. This can be done with the [`thumbnail`](http://pillow.readthedocs.io/en/3.1.x/reference/Image.html#PIL.Image.Image.thumbnail) or [`resize`](http://pillow.readthedocs.io/en/3.1.x/reference/Image.html#PIL.Image.Image.thumbnail) methods. Then you'll need to crop out the center 224x224 portion of the image.\n",
    "\n",
    "Color channels of images are typically encoded as integers 0-255, but the model expected floats 0-1. You'll need to convert the values. It's easiest with a Numpy array, which you can get from a PIL image like so `np_image = np.array(pil_image)`.\n",
    "\n",
    "As before, the network expects the images to be normalized in a specific way. For the means, it's `[0.485, 0.456, 0.406]` and for the standard deviations `[0.229, 0.224, 0.225]`. You'll want to subtract the means from each color channel, then divide by the standard deviation. \n",
    "\n",
    "And finally, PyTorch expects the color channel to be the first dimension but it's the third dimension in the PIL image and Numpy array. You can reorder dimensions using [`ndarray.transpose`](https://docs.scipy.org/doc/numpy-1.13.0/reference/generated/numpy.ndarray.transpose.html). The color channel needs to be first and retain the order of the other two dimensions."
   ]
  },
  {
   "cell_type": "code",
   "execution_count": 6,
   "metadata": {},
   "outputs": [],
   "source": [
    "\n",
    "def process_image(image):\n",
    "    ''' *** Use image path for image variable\n",
    "    Scales, crops, and normalizes a PIL image for a PyTorch model,\n",
    "        returns an Numpy array\n",
    "    '''\n",
    "    #Open image as PIL image\n",
    "    image = Image.open(image) \n",
    "    \n",
    "    #following code provided by Mentor Alexander in https://knowledge.udacity.com/questions/921433\n",
    "    # TODO: Process a PIL image for use in a PyTorch model\n",
    "    width, height = image.size\n",
    "    size = 256, 256\n",
    "    if width > height:\n",
    "        ratio = float(width) / float(height)\n",
    "        newheight = ratio * size[0]\n",
    "        image = image.resize((size[0], int(floor(newheight))), Image.ANTIALIAS)\n",
    "    else:\n",
    "        ratio = float(height) / float(width)\n",
    "        newwidth = ratio * size[0]\n",
    "        image = image.resize((int(floor(newwidth)), size[0]), Image.ANTIALIAS)\n",
    "    \n",
    "    image = image.crop((\n",
    "        size[0] //2 - (224/2),\n",
    "        size[1] //2 - (224/2),\n",
    "        size[0] //2 + (224/2),\n",
    "        size[1] //2 + (224/2))\n",
    "    )\n",
    "    image_array = np.array(image)/255\n",
    "    image_array[:,:,0] = (image_array[:,:,0] - 0.485)/(0.229)\n",
    "    image_array[:,:,1] = (image_array[:,:,1] - 0.456)/(0.224)\n",
    "    image_array[:,:,2] = (image_array[:,:,2] - 0.406)/(0.225)\n",
    "    image_array = np.transpose(image_array, (2,0,1))\n",
    "    \n",
    "    return torch.FloatTensor([image_array])"
   ]
  },
  {
   "cell_type": "markdown",
   "metadata": {},
   "source": [
    "To check your work, the function below converts a PyTorch tensor and displays it in the notebook. If your `process_image` function works, running the output through this function should return the original image (except for the cropped out portions)."
   ]
  },
  {
   "cell_type": "code",
   "execution_count": 7,
   "metadata": {},
   "outputs": [],
   "source": [
    "def imshow(image, ax=None, title=None):\n",
    "    \"\"\"Imshow for Tensor.\"\"\"\n",
    "    if ax is None:\n",
    "        fig, ax = plt.subplots()\n",
    "    \n",
    "    # PyTorch tensors assume the color channel is the first dimension\n",
    "    # but matplotlib assumes is the third dimension\n",
    "    image = image.numpy()[0].transpose((1, 2, 0))\n",
    "    \n",
    "    # Undo preprocessing\n",
    "    mean = np.array([0.485, 0.456, 0.406])\n",
    "    std = np.array([0.229, 0.224, 0.225])\n",
    "    image = std * image + mean\n",
    "    \n",
    "    # Image needs to be clipped between 0 and 1 or it looks like noise when displayed\n",
    "    image = np.clip(image, 0, 1)\n",
    "    \n",
    "    ax.imshow(image)\n",
    "    \n",
    "    return ax"
   ]
  },
  {
   "cell_type": "code",
   "execution_count": 8,
   "metadata": {},
   "outputs": [
    {
     "ename": "NameError",
     "evalue": "name 'image' is not defined",
     "output_type": "error",
     "traceback": [
      "\u001b[0;31m---------------------------------------------------------------------------\u001b[0m",
      "\u001b[0;31mNameError\u001b[0m                                 Traceback (most recent call last)",
      "\u001b[0;32m<ipython-input-8-0f77f65b1390>\u001b[0m in \u001b[0;36m<module>\u001b[0;34m()\u001b[0m\n\u001b[0;32m----> 1\u001b[0;31m \u001b[0mimshow\u001b[0m\u001b[0;34m(\u001b[0m\u001b[0mprocess_image\u001b[0m\u001b[0;34m(\u001b[0m\u001b[0mimage\u001b[0m\u001b[0;34m)\u001b[0m\u001b[0;34m)\u001b[0m\u001b[0;34m\u001b[0m\u001b[0m\n\u001b[0m",
      "\u001b[0;31mNameError\u001b[0m: name 'image' is not defined"
     ]
    }
   ],
   "source": [
    "imshow(process_image(image))"
   ]
  },
  {
   "cell_type": "markdown",
   "metadata": {},
   "source": [
    "## Class Prediction\n",
    "\n",
    "Once you can get images in the correct format, it's time to write a function for making predictions with your model. A common practice is to predict the top 5 or so (usually called top-$K$) most probable classes. You'll want to calculate the class probabilities then find the $K$ largest values.\n",
    "\n",
    "To get the top $K$ largest values in a tensor use [`x.topk(k)`](http://pytorch.org/docs/master/torch.html#torch.topk). This method returns both the highest `k` probabilities and the indices of those probabilities corresponding to the classes. You need to convert from these indices to the actual class labels using `class_to_idx` which hopefully you added to the model or from an `ImageFolder` you used to load the data ([see here](#Save-the-checkpoint)). Make sure to invert the dictionary so you get a mapping from index to class as well.\n",
    "\n",
    "Again, this method should take a path to an image and a model checkpoint, then return the probabilities and classes.\n",
    "\n",
    "```python\n",
    "probs, classes = predict(image_path, model)\n",
    "print(probs)\n",
    "print(classes)\n",
    "> [ 0.01558163  0.01541934  0.01452626  0.01443549  0.01407339]\n",
    "> ['70', '3', '45', '62', '55']\n",
    "```"
   ]
  },
  {
   "cell_type": "code",
   "execution_count": 9,
   "metadata": {},
   "outputs": [],
   "source": [
    "# TODO: Implement the code to predict the class from an image file\n",
    "def predict(image_path, model, topk=5):\n",
    "    ''' Predict the class (or classes) of an image using a trained deep learning model.\n",
    "    '''\n",
    "    device = torch.device(\"cuda\" if torch.cuda.is_available() else \"cpu\")\n",
    "        #following code provided by Mentor Alexander in https://knowledge.udacity.com/questions/921433\n",
    "\n",
    "    image = process_image(image_path) #use early function to open and process image\n",
    "    \n",
    "    image = image.to(device) #send image to gpu if available\n",
    "    model = model.to(device) #send image to gpu if available\n",
    "    \n",
    "    model.eval() #set model to evaluation mode\n",
    "    \n",
    "    output = model.forward(Variable(image)) #get output\n",
    "    \n",
    "    ps = torch.exp(output).data #get probabilities for outputs\n",
    "    \n",
    "    largest = ps.topk(topk) #define topk probabilities\n",
    "    \n",
    "    prob = largest[0].cpu().numpy()[0] #get topk probabilities\n",
    "    idx = largest[1].cpu().numpy()[0] #get topk classes\n",
    "    \n",
    "    classes = [model.idx_to_class[x] for x in idx] #map indexes of classes to labels\n",
    "    \n",
    "    return prob, classes"
   ]
  },
  {
   "cell_type": "code",
   "execution_count": 82,
   "metadata": {},
   "outputs": [
    {
     "name": "stdout",
     "output_type": "stream",
     "text": [
      "[ 0.06710804  0.04590524  0.0390463   0.02150234  0.01212538]\n",
      "['46', '102', '15', '8', '61']\n"
     ]
    }
   ],
   "source": [
    "image_path = 'flowers/test/102/image_08030.jpg'\n",
    "probs, classes = predict(image_path, model)\n",
    "\n",
    "labels=[]\n",
    "print(probs)\n",
    "print(classes)\n"
   ]
  },
  {
   "cell_type": "markdown",
   "metadata": {},
   "source": [
    "## Sanity Checking\n",
    "\n",
    "Now that you can use a trained model for predictions, check to make sure it makes sense. Even if the testing accuracy is high, it's always good to check that there aren't obvious bugs. Use `matplotlib` to plot the probabilities for the top 5 classes as a bar graph, along with the input image. It should look like this:\n",
    "\n",
    "<img src='assets/inference_example.png' width=300px>\n",
    "\n",
    "You can convert from the class integer encoding to actual flower names with the `cat_to_name.json` file (should have been loaded earlier in the notebook). To show a PyTorch tensor as an image, use the `imshow` function defined above."
   ]
  },
  {
   "cell_type": "code",
   "execution_count": 120,
   "metadata": {},
   "outputs": [
    {
     "data": {
      "image/png": "[encoded data removed]",
      "text/plain": [
       "<matplotlib.figure.Figure at 0x7fdb7041cc50>"
      ]
     },
     "metadata": {
      "needs_background": "light"
     },
     "output_type": "display_data"
    }
   ],
   "source": [
    "# TODO: Display an image along with the top 5 classes\n",
    "#probs=[ 0.00980392 , 0.00980392,  0.00980392,  0.00980392 , 0.00980392]\n",
    "#classes = ['10', '1', '100', '102', '101']\n",
    "\n",
    "fig, (ax1,ax2)=plt.subplots(2,1) \n",
    "\n",
    "\n",
    "\n",
    "ax1=imshow(process_image(image_path), ax=ax1);\n",
    "\n",
    "y=([cat_to_name[x] for x in classes])\n",
    "x=probs.tolist()\n",
    "\n",
    "\n",
    "plt.ylabel(\"Predicted Label\")\n",
    " \n",
    "ax2=plt.barh(y, x, align='center')\n",
    "\n",
    "\n",
    "\n"
   ]
  },
  {
   "cell_type": "markdown",
   "metadata": {},
   "source": [
    "<font color='red'>**Reminder for Workspace users:** If your network becomes very large when saved as a checkpoint, there might be issues with saving backups in your workspace. You should reduce the size of your hidden layers and train again. \n",
    "    \n",
    "We strongly encourage you to delete these large interim files and directories before navigating to another page or closing the browser tab.</font>"
   ]
  },
  {
   "cell_type": "code",
   "execution_count": 25,
   "metadata": {},
   "outputs": [],
   "source": [
    "# TODO remove .pth files or move it to a temporary `~/opt` directory in this Workspace"
   ]
  },
  {
   "cell_type": "code",
   "execution_count": null,
   "metadata": {},
   "outputs": [],
   "source": []
  }
 ],
 "metadata": {
  "kernelspec": {
   "display_name": "Python 3 (ipykernel)",
   "language": "python",
   "name": "python3"
  },
  "language_info": {
   "codemirror_mode": {
    "name": "ipython",
    "version": 3
   },
   "file_extension": ".py",
   "mimetype": "text/x-python",
   "name": "python",
   "nbconvert_exporter": "python",
   "pygments_lexer": "ipython3",
   "version": "3.9.13"
  }
 },
 "nbformat": 4,
 "nbformat_minor": 2
}
